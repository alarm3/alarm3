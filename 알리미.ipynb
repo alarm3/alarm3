{
 "cells": [
  {
   "cell_type": "markdown",
   "metadata": {},
   "source": [
    "# 패키지 설치     \n",
    " - Audio processing : librosa, mutagen\n",
    " - Plots : Plotly, matplotlib"
   ]
  },
  {
   "cell_type": "code",
   "execution_count": 2,
   "metadata": {
    "scrolled": true
   },
   "outputs": [
    {
     "name": "stdout",
     "output_type": "stream",
     "text": [
      "Requirement already satisfied: pandas in c:\\users\\sclab\\anaconda3\\lib\\site-packages (1.0.5)\n",
      "Requirement already satisfied: numpy>=1.13.3 in c:\\users\\sclab\\anaconda3\\lib\\site-packages (from pandas) (1.19.5)\n",
      "Requirement already satisfied: pytz>=2017.2 in c:\\users\\sclab\\anaconda3\\lib\\site-packages (from pandas) (2020.1)\n",
      "Requirement already satisfied: python-dateutil>=2.6.1 in c:\\users\\sclab\\anaconda3\\lib\\site-packages (from pandas) (2.8.1)\n",
      "Requirement already satisfied: six>=1.5 in c:\\users\\sclab\\anaconda3\\lib\\site-packages (from python-dateutil>=2.6.1->pandas) (1.15.0)\n",
      "Requirement already satisfied: librosa in c:\\users\\sclab\\anaconda3\\lib\\site-packages (0.8.1)\n",
      "Requirement already satisfied: joblib>=0.14 in c:\\users\\sclab\\anaconda3\\lib\\site-packages (from librosa) (0.16.0)\n",
      "Requirement already satisfied: scikit-learn!=0.19.0,>=0.14.0 in c:\\users\\sclab\\anaconda3\\lib\\site-packages (from librosa) (0.23.1)\n",
      "Requirement already satisfied: audioread>=2.0.0 in c:\\users\\sclab\\anaconda3\\lib\\site-packages (from librosa) (2.1.9)\n",
      "Requirement already satisfied: numpy>=1.15.0 in c:\\users\\sclab\\anaconda3\\lib\\site-packages (from librosa) (1.19.5)\n",
      "Requirement already satisfied: packaging>=20.0 in c:\\users\\sclab\\anaconda3\\lib\\site-packages (from librosa) (20.4)\n",
      "Requirement already satisfied: numba>=0.43.0 in c:\\users\\sclab\\anaconda3\\lib\\site-packages (from librosa) (0.50.1)\n",
      "Requirement already satisfied: pooch>=1.0 in c:\\users\\sclab\\anaconda3\\lib\\site-packages (from librosa) (1.5.1)\n",
      "Requirement already satisfied: decorator>=3.0.0 in c:\\users\\sclab\\anaconda3\\lib\\site-packages (from librosa) (4.4.2)\n",
      "Requirement already satisfied: resampy>=0.2.2 in c:\\users\\sclab\\anaconda3\\lib\\site-packages (from librosa) (0.2.2)\n",
      "Requirement already satisfied: soundfile>=0.10.2 in c:\\users\\sclab\\anaconda3\\lib\\site-packages (from librosa) (0.10.3.post1)\n",
      "Requirement already satisfied: scipy>=1.0.0 in c:\\users\\sclab\\anaconda3\\lib\\site-packages (from librosa) (1.5.0)\n",
      "Requirement already satisfied: threadpoolctl>=2.0.0 in c:\\users\\sclab\\anaconda3\\lib\\site-packages (from scikit-learn!=0.19.0,>=0.14.0->librosa) (2.1.0)\n",
      "Requirement already satisfied: six in c:\\users\\sclab\\anaconda3\\lib\\site-packages (from packaging>=20.0->librosa) (1.15.0)\n",
      "Requirement already satisfied: pyparsing>=2.0.2 in c:\\users\\sclab\\anaconda3\\lib\\site-packages (from packaging>=20.0->librosa) (2.4.7)\n",
      "Requirement already satisfied: llvmlite<0.34,>=0.33.0.dev0 in c:\\users\\sclab\\anaconda3\\lib\\site-packages (from numba>=0.43.0->librosa) (0.33.0+1.g022ab0f)\n",
      "Requirement already satisfied: setuptools in c:\\users\\sclab\\anaconda3\\lib\\site-packages (from numba>=0.43.0->librosa) (49.2.0.post20200714)\n",
      "Requirement already satisfied: appdirs in c:\\users\\sclab\\anaconda3\\lib\\site-packages (from pooch>=1.0->librosa) (1.4.4)\n",
      "Requirement already satisfied: requests in c:\\users\\sclab\\anaconda3\\lib\\site-packages (from pooch>=1.0->librosa) (2.24.0)\n",
      "Requirement already satisfied: cffi>=1.0 in c:\\users\\sclab\\anaconda3\\lib\\site-packages (from soundfile>=0.10.2->librosa) (1.14.0)\n",
      "Requirement already satisfied: certifi>=2017.4.17 in c:\\users\\sclab\\anaconda3\\lib\\site-packages (from requests->pooch>=1.0->librosa) (2020.6.20)\n",
      "Requirement already satisfied: chardet<4,>=3.0.2 in c:\\users\\sclab\\anaconda3\\lib\\site-packages (from requests->pooch>=1.0->librosa) (3.0.4)\n",
      "Requirement already satisfied: idna<3,>=2.5 in c:\\users\\sclab\\anaconda3\\lib\\site-packages (from requests->pooch>=1.0->librosa) (2.10)\n",
      "Requirement already satisfied: urllib3!=1.25.0,!=1.25.1,<1.26,>=1.21.1 in c:\\users\\sclab\\anaconda3\\lib\\site-packages (from requests->pooch>=1.0->librosa) (1.25.9)\n",
      "Requirement already satisfied: pycparser in c:\\users\\sclab\\anaconda3\\lib\\site-packages (from cffi>=1.0->soundfile>=0.10.2->librosa) (2.20)\n",
      "Requirement already satisfied: plotly in c:\\users\\sclab\\anaconda3\\lib\\site-packages (5.7.0)\n",
      "Requirement already satisfied: tenacity>=6.2.0 in c:\\users\\sclab\\anaconda3\\lib\\site-packages (from plotly) (8.0.1)\n",
      "Requirement already satisfied: six in c:\\users\\sclab\\anaconda3\\lib\\site-packages (from plotly) (1.15.0)\n",
      "Requirement already satisfied: matplotlib in c:\\users\\sclab\\anaconda3\\lib\\site-packages (3.2.2)\n",
      "Requirement already satisfied: pyparsing!=2.0.4,!=2.1.2,!=2.1.6,>=2.0.1 in c:\\users\\sclab\\anaconda3\\lib\\site-packages (from matplotlib) (2.4.7)\n",
      "Requirement already satisfied: cycler>=0.10 in c:\\users\\sclab\\anaconda3\\lib\\site-packages (from matplotlib) (0.10.0)\n",
      "Requirement already satisfied: python-dateutil>=2.1 in c:\\users\\sclab\\anaconda3\\lib\\site-packages (from matplotlib) (2.8.1)\n",
      "Requirement already satisfied: numpy>=1.11 in c:\\users\\sclab\\anaconda3\\lib\\site-packages (from matplotlib) (1.19.5)\n",
      "Requirement already satisfied: kiwisolver>=1.0.1 in c:\\users\\sclab\\anaconda3\\lib\\site-packages (from matplotlib) (1.2.0)\n",
      "Requirement already satisfied: six in c:\\users\\sclab\\anaconda3\\lib\\site-packages (from cycler>=0.10->matplotlib) (1.15.0)\n",
      "Requirement already satisfied: mutagen in c:\\users\\sclab\\anaconda3\\lib\\site-packages (1.45.1)\n",
      "Requirement already satisfied: pillow in c:\\users\\sclab\\anaconda3\\lib\\site-packages (7.2.0)\n"
     ]
    }
   ],
   "source": [
    "#패키지 설치\n",
    "!pip install pandas\n",
    "!pip install librosa\n",
    "!pip install plotly\n",
    "!pip install matplotlib\n",
    "!pip install mutagen\n",
    "!pip install pillow"
   ]
  },
  {
   "cell_type": "code",
   "execution_count": 3,
   "metadata": {},
   "outputs": [],
   "source": [
    "import os\n",
    "import time\n",
    "import librosa\n",
    "import zipfile\n",
    "import mutagen\n",
    "import mutagen.wave\n",
    "import numpy as np\n",
    "import pandas as pd\n",
    "import librosa.display\n",
    "import IPython.display\n",
    "import matplotlib.pyplot as plt\n",
    "import plotly.graph_objects as go\n",
    "from PIL import Image\n",
    "\n",
    "#전이학습에 있는 모듈 임포트\n",
    "import glob\n",
    "from matplotlib.pyplot import specgram\n",
    "import soundfile as sf"
   ]
  },
  {
   "cell_type": "markdown",
   "metadata": {},
   "source": [
    "# 데이터셋 불러오기     \n",
    " - Urbansound8K"
   ]
  },
  {
   "cell_type": "code",
   "execution_count": 4,
   "metadata": {
    "scrolled": true
   },
   "outputs": [
    {
     "name": "stdout",
     "output_type": "stream",
     "text": [
      "C:\\Users\\SCLAB\\USC\\AudioData\\UrbanSound8K\n"
     ]
    }
   ],
   "source": [
    "#실행되는 디렉토리 수정\n",
    "# %cd drive/MyDrive/(Colab\\Notebooks)/폴더명\n",
    "%cd C:\\Users\\SCLAB\\USC\\AudioData\\UrbanSound8K"
   ]
  },
  {
   "cell_type": "markdown",
   "metadata": {},
   "source": [
    "# 데이터 분석"
   ]
  },
  {
   "cell_type": "code",
   "execution_count": 5,
   "metadata": {},
   "outputs": [],
   "source": [
    "#함수정의\n",
    "def create_dataset_df(csv_file):\n",
    "    dataset_df = pd.read_csv(csv_file)\n",
    "    filepaths = []\n",
    "    for i, row in dataset_df.iterrows():\n",
    "        filepaths.append(os.path.join('UrbanSound8K/audio', 'fold'+str(row['fold']), row['slice_file_name']))\n",
    "    dataset_df['filepath'] = filepaths\n",
    "    return dataset_df"
   ]
  },
  {
   "cell_type": "code",
   "execution_count": 6,
   "metadata": {},
   "outputs": [
    {
     "data": {
      "text/html": [
       "<div>\n",
       "<style scoped>\n",
       "    .dataframe tbody tr th:only-of-type {\n",
       "        vertical-align: middle;\n",
       "    }\n",
       "\n",
       "    .dataframe tbody tr th {\n",
       "        vertical-align: top;\n",
       "    }\n",
       "\n",
       "    .dataframe thead th {\n",
       "        text-align: right;\n",
       "    }\n",
       "</style>\n",
       "<table border=\"1\" class=\"dataframe\">\n",
       "  <thead>\n",
       "    <tr style=\"text-align: right;\">\n",
       "      <th></th>\n",
       "      <th>slice_file_name</th>\n",
       "      <th>fsID</th>\n",
       "      <th>start</th>\n",
       "      <th>end</th>\n",
       "      <th>salience</th>\n",
       "      <th>fold</th>\n",
       "      <th>classID</th>\n",
       "      <th>class</th>\n",
       "      <th>filepath</th>\n",
       "    </tr>\n",
       "  </thead>\n",
       "  <tbody>\n",
       "    <tr>\n",
       "      <th>0</th>\n",
       "      <td>100032-3-0-0.wav</td>\n",
       "      <td>100032</td>\n",
       "      <td>0.0</td>\n",
       "      <td>0.317551</td>\n",
       "      <td>1</td>\n",
       "      <td>5</td>\n",
       "      <td>3</td>\n",
       "      <td>dog_bark</td>\n",
       "      <td>UrbanSound8K/audio\\fold5\\100032-3-0-0.wav</td>\n",
       "    </tr>\n",
       "    <tr>\n",
       "      <th>1</th>\n",
       "      <td>100263-2-0-117.wav</td>\n",
       "      <td>100263</td>\n",
       "      <td>58.5</td>\n",
       "      <td>62.500000</td>\n",
       "      <td>1</td>\n",
       "      <td>5</td>\n",
       "      <td>2</td>\n",
       "      <td>children_playing</td>\n",
       "      <td>UrbanSound8K/audio\\fold5\\100263-2-0-117.wav</td>\n",
       "    </tr>\n",
       "    <tr>\n",
       "      <th>2</th>\n",
       "      <td>100263-2-0-121.wav</td>\n",
       "      <td>100263</td>\n",
       "      <td>60.5</td>\n",
       "      <td>64.500000</td>\n",
       "      <td>1</td>\n",
       "      <td>5</td>\n",
       "      <td>2</td>\n",
       "      <td>children_playing</td>\n",
       "      <td>UrbanSound8K/audio\\fold5\\100263-2-0-121.wav</td>\n",
       "    </tr>\n",
       "    <tr>\n",
       "      <th>3</th>\n",
       "      <td>100263-2-0-126.wav</td>\n",
       "      <td>100263</td>\n",
       "      <td>63.0</td>\n",
       "      <td>67.000000</td>\n",
       "      <td>1</td>\n",
       "      <td>5</td>\n",
       "      <td>2</td>\n",
       "      <td>children_playing</td>\n",
       "      <td>UrbanSound8K/audio\\fold5\\100263-2-0-126.wav</td>\n",
       "    </tr>\n",
       "    <tr>\n",
       "      <th>4</th>\n",
       "      <td>100263-2-0-137.wav</td>\n",
       "      <td>100263</td>\n",
       "      <td>68.5</td>\n",
       "      <td>72.500000</td>\n",
       "      <td>1</td>\n",
       "      <td>5</td>\n",
       "      <td>2</td>\n",
       "      <td>children_playing</td>\n",
       "      <td>UrbanSound8K/audio\\fold5\\100263-2-0-137.wav</td>\n",
       "    </tr>\n",
       "  </tbody>\n",
       "</table>\n",
       "</div>"
      ],
      "text/plain": [
       "      slice_file_name    fsID  start        end  salience  fold  classID  \\\n",
       "0    100032-3-0-0.wav  100032    0.0   0.317551         1     5        3   \n",
       "1  100263-2-0-117.wav  100263   58.5  62.500000         1     5        2   \n",
       "2  100263-2-0-121.wav  100263   60.5  64.500000         1     5        2   \n",
       "3  100263-2-0-126.wav  100263   63.0  67.000000         1     5        2   \n",
       "4  100263-2-0-137.wav  100263   68.5  72.500000         1     5        2   \n",
       "\n",
       "              class                                     filepath  \n",
       "0          dog_bark    UrbanSound8K/audio\\fold5\\100032-3-0-0.wav  \n",
       "1  children_playing  UrbanSound8K/audio\\fold5\\100263-2-0-117.wav  \n",
       "2  children_playing  UrbanSound8K/audio\\fold5\\100263-2-0-121.wav  \n",
       "3  children_playing  UrbanSound8K/audio\\fold5\\100263-2-0-126.wav  \n",
       "4  children_playing  UrbanSound8K/audio\\fold5\\100263-2-0-137.wav  "
      ]
     },
     "execution_count": 6,
     "metadata": {},
     "output_type": "execute_result"
    }
   ],
   "source": [
    "#5개의 데이터셋 확인하기\n",
    "dataset_df = create_dataset_df('/Users/SCLAB/USC/AudioData/UrbanSound8K/metadata/UrbanSound8K.csv')\n",
    "dataset_df.head()"
   ]
  },
  {
   "cell_type": "code",
   "execution_count": 7,
   "metadata": {
    "scrolled": true
   },
   "outputs": [
    {
     "data": {
      "text/plain": [
       "class\n",
       "air_conditioner     1000\n",
       "car_horn             429\n",
       "children_playing    1000\n",
       "dog_bark            1000\n",
       "drilling            1000\n",
       "engine_idling       1000\n",
       "gun_shot             374\n",
       "jackhammer          1000\n",
       "siren                929\n",
       "street_music        1000\n",
       "Name: slice_file_name, dtype: int64"
      ]
     },
     "execution_count": 7,
     "metadata": {},
     "output_type": "execute_result"
    }
   ],
   "source": [
    "#클래스별 데이터 개수 확인하기\n",
    "dataset_df.groupby('class').slice_file_name.count()"
   ]
  },
  {
   "cell_type": "markdown",
   "metadata": {},
   "source": [
    "파이썬에서 데이터 분석, 처리를 할 때 Pandas를 사용     \n",
    "groupby()는 같은 값을 하나로 묶어 통계 또는 집계 결과를 얻기 위해 사용"
   ]
  },
  {
   "cell_type": "markdown",
   "metadata": {},
   "source": [
    "# Audio Set 불러오기   \n",
    " 1. 복제 리포지토리 설정"
   ]
  },
  {
   "cell_type": "code",
   "execution_count": 10,
   "metadata": {
    "scrolled": true
   },
   "outputs": [
    {
     "name": "stdout",
     "output_type": "stream",
     "text": [
      "Collecting package metadata (current_repodata.json): ...working... done\n",
      "Solving environment: ...working... done\n",
      "\n",
      "# All requested packages already installed.\n",
      "\n"
     ]
    }
   ],
   "source": [
    "#깃 설치하기\n",
    "!conda install git"
   ]
  },
  {
   "cell_type": "code",
   "execution_count": 7,
   "metadata": {
    "scrolled": true
   },
   "outputs": [
    {
     "name": "stderr",
     "output_type": "stream",
     "text": [
      "fatal: destination path 'audioset-processing' already exists and is not an empty directory.\n"
     ]
    }
   ],
   "source": [
    "#깃허브 주소에 있는 파일을 컴퓨터로 다운로드\n",
    "#리포지토리의 원주소인 url을 복사하고 git clone 명령어 실행\n",
    "!git clone https://github.com/aoifemcdonagh/audioset-processing.git"
   ]
  },
  {
   "cell_type": "code",
   "execution_count": 8,
   "metadata": {},
   "outputs": [
    {
     "name": "stdout",
     "output_type": "stream",
     "text": [
      "C:\\Users\\SCLAB\\Alarmi\\audioset-processing\n"
     ]
    }
   ],
   "source": [
    "#실행되고 있는 디렉토리를 변경\n",
    "%cd audioset-processing/"
   ]
  },
  {
   "cell_type": "markdown",
   "metadata": {},
   "source": [
    "2. 요구 사항 설치   \n",
    " - 런타임을 다시 시작하라는 메세지 무시"
   ]
  },
  {
   "cell_type": "code",
   "execution_count": 20,
   "metadata": {
    "scrolled": true
   },
   "outputs": [
    {
     "name": "stdout",
     "output_type": "stream",
     "text": [
      "Collecting altgraph==0.17\n",
      "  Downloading altgraph-0.17-py2.py3-none-any.whl (21 kB)\n",
      "Requirement already satisfied: future==0.18.2 in c:\\users\\sclab\\anaconda3\\lib\\site-packages (from -r requirements.txt (line 2)) (0.18.2)\n",
      "Collecting pefile==2019.4.18\n",
      "  Downloading pefile-2019.4.18.tar.gz (62 kB)\n",
      "Collecting youtube-dl\n",
      "  Downloading youtube_dl-2021.12.17-py2.py3-none-any.whl (1.9 MB)\n",
      "Building wheels for collected packages: pefile\n",
      "  Building wheel for pefile (setup.py): started\n",
      "  Building wheel for pefile (setup.py): finished with status 'done'\n",
      "  Created wheel for pefile: filename=pefile-2019.4.18-py3-none-any.whl size=60821 sha256=991858322cb8a51aaacc51a39aef6e6603369cab82502cc8bae8d40ba92c02ab\n",
      "  Stored in directory: c:\\users\\sclab\\appdata\\local\\pip\\cache\\wheels\\42\\52\\d5\\9550bbfb9eeceaf0f19db1cf651cc8ba41d3bcf8b4d20e4279\n",
      "Successfully built pefile\n",
      "Installing collected packages: altgraph, pefile, youtube-dl\n",
      "Successfully installed altgraph-0.17 pefile-2019.4.18 youtube-dl-2021.12.17\n"
     ]
    }
   ],
   "source": [
    "!pip install -r requirements.txt"
   ]
  },
  {
   "cell_type": "markdown",
   "metadata": {},
   "source": [
    "3. AudioSet에서 클래스의 모든 인스턴스 다운로드\n",
    " - 아나콘다 4.12.0\n",
    " - 파이썬 3.8.3"
   ]
  },
  {
   "cell_type": "code",
   "execution_count": 1,
   "metadata": {},
   "outputs": [
    {
     "name": "stderr",
     "output_type": "stream",
     "text": [
      "Python\n"
     ]
    }
   ],
   "source": [
    "#기침(871개)\n",
    "!python3 process.py download -c \"cough\""
   ]
  },
  {
   "cell_type": "code",
   "execution_count": 1,
   "metadata": {},
   "outputs": [],
   "source": [
    "!cd audioset-processing"
   ]
  },
  {
   "cell_type": "code",
   "execution_count": 11,
   "metadata": {},
   "outputs": [
    {
     "name": "stdout",
     "output_type": "stream",
     "text": [
      "/c/Users/SCLAB/Alarmi\n"
     ]
    }
   ],
   "source": [
    "!pwd"
   ]
  },
  {
   "cell_type": "code",
   "execution_count": 10,
   "metadata": {},
   "outputs": [
    {
     "ename": "SyntaxError",
     "evalue": "invalid syntax (<ipython-input-10-8667ac229b6f>, line 8)",
     "output_type": "error",
     "traceback": [
      "\u001b[1;36m  File \u001b[1;32m\"<ipython-input-10-8667ac229b6f>\"\u001b[1;36m, line \u001b[1;32m8\u001b[0m\n\u001b[1;33m    import .core.utils as utils\u001b[0m\n\u001b[1;37m           ^\u001b[0m\n\u001b[1;31mSyntaxError\u001b[0m\u001b[1;31m:\u001b[0m invalid syntax\n"
     ]
    }
   ],
   "source": [
    "# Processing utility for AudioSet dataset\n",
    "# Sort, find and download the entire, or subsets of, AudioSet\n",
    "\n",
    "# Aoife McDonagh\n",
    "\n",
    "import argparse\n",
    "import os\n",
    "import .core.utils as utils\n",
    "#from core.utils import *\n",
    "\n",
    "\n",
    "def find(args):\n",
    "    \"\"\"\n",
    "    Function for finding all examples in a directory containing labels for given classes\n",
    "    :param args:\n",
    "    :return:\n",
    "    \"\"\"\n",
    "    print(\"Finding all files labeled with classes\" + args.classes + \" in \" + args.audio_data_dir)\n",
    "\n",
    "    for class_name in args.classes:\n",
    "        utils.find(class_name, args)\n",
    "        print(\"Finished finding and sorting files for class: \" + class_name)\n",
    "\n",
    "\n",
    "def download(args):\n",
    "    \"\"\"\n",
    "    Function for downloading all examples in AudioSet containing labels for given classes\n",
    "    :param args:\n",
    "    :return:\n",
    "    \"\"\"\n",
    "    print(\"Downloading classes from AudioSet.\")\n",
    "\n",
    "    for class_name in args.classes:\n",
    "        utils.download(class_name, args)\n",
    "\n",
    "\n",
    "\n",
    "parser = argparse.ArgumentParser()\n",
    "parser.add_argument('mode', type=str, choices=['find', 'download'])\n",
    "parser.add_argument('-c', '--classes', nargs='+', type=str,\n",
    "                    help='list of classes to find in a given directory of audioset files')\n",
    "parser.add_argument('-b', '--blacklist', nargs='+', type=str,\n",
    "                    help='list of classes which will exclude a clip from being downloaded')\n",
    "parser.add_argument('-d', '--destination_dir', type=str,\n",
    "                    help='directory path to put downloaded (or found) files into')\n",
    "parser.add_argument('--audio_data_dir', type=str,\n",
    "                    help='directory path containing pre-downloaded files from AudioSet')\n",
    "parser.add_argument('-fs', \"--sample_rate\", type=int,\n",
    "                    help=\"Sample rate of audio to download. Default 16kHz\")\n",
    "parser.add_argument('-s', '--strict',\n",
    "                    help='If used, only match exact string argument passed')\n",
    "parser.add_argument('--label_file', type=str,\n",
    "                    help='Path to CSV file containing AudioSet labels for each class')\n",
    "parser.add_argument('--csv_dataset', type=str,\n",
    "                    help='Path to CSV file containing AudioSet in YouTube-id/timestamp form')\n",
    "\n",
    "parser.set_defaults(\n",
    "    label_file='./data/class_labels_indices.csv',\n",
    "    csv_dataset='./data/unbalanced_train_segments.csv',\n",
    "    destination_dir='./output',\n",
    "    fs=16000\n",
    ")\n",
    "\n",
    "args = parser.parse_args()\n",
    "\n",
    "if args.mode == 'find':\n",
    "    if args.destination_dir is not None and not os.path.isdir(args.destination_dir):\n",
    "        os.makedirs(args.destination_dir)\n",
    "    find(args)\n",
    "\n",
    "elif args.mode == 'download':\n",
    "    if args.destination_dir is not None and not os.path.isdir(args.destination_dir):\n",
    "        os.makedirs(args.destination_dir)\n",
    "    download(args)\n",
    "\n",
    "\n"
   ]
  },
  {
   "cell_type": "code",
   "execution_count": null,
   "metadata": {},
   "outputs": [],
   "source": []
  }
 ],
 "metadata": {
  "kernelspec": {
   "display_name": "Python 3",
   "language": "python",
   "name": "python3"
  },
  "language_info": {
   "codemirror_mode": {
    "name": "ipython",
    "version": 3
   },
   "file_extension": ".py",
   "mimetype": "text/x-python",
   "name": "python",
   "nbconvert_exporter": "python",
   "pygments_lexer": "ipython3",
   "version": "3.8.3"
  }
 },
 "nbformat": 4,
 "nbformat_minor": 4
}
